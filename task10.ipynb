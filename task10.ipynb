{
 "cells": [
  {
   "cell_type": "code",
   "execution_count": 10,
   "id": "7c2dcd79",
   "metadata": {},
   "outputs": [
    {
     "name": "stdout",
     "output_type": "stream",
     "text": [
      "[('tina', 'dell'), ('riya', 'MS'), ('viyan', 'Apple')]\n"
     ]
    }
   ],
   "source": [
    "names= (\"tina\",\"riya\",\"viyan\")\n",
    "company= (\"dell\",\"MS\",\"Apple\")\n",
    "\n",
    "zipped=list(zip(names,company))\n",
    "print(zipped)"
   ]
  },
  {
   "cell_type": "code",
   "execution_count": 12,
   "id": "edf79813",
   "metadata": {},
   "outputs": [
    {
     "name": "stdout",
     "output_type": "stream",
     "text": [
      "{('riya', 'MS'), ('viyan', 'Apple'), ('tina', 'dell')}\n"
     ]
    }
   ],
   "source": [
    "zipped=set(zip(names,company))\n",
    "\n",
    "print(zipped)"
   ]
  },
  {
   "cell_type": "code",
   "execution_count": 13,
   "id": "a39bd689",
   "metadata": {},
   "outputs": [
    {
     "name": "stdout",
     "output_type": "stream",
     "text": [
      "{'tina': 'dell', 'riya': 'MS', 'viyan': 'Apple'}\n"
     ]
    }
   ],
   "source": [
    "zipped=dict(zip(names,company))\n",
    "print(zipped)"
   ]
  },
  {
   "cell_type": "code",
   "execution_count": 14,
   "id": "81929ee6",
   "metadata": {},
   "outputs": [],
   "source": [
    "#reduce "
   ]
  },
  {
   "cell_type": "code",
   "execution_count": 16,
   "id": "39d039c8",
   "metadata": {},
   "outputs": [],
   "source": [
    "from functools import reduce"
   ]
  },
  {
   "cell_type": "code",
   "execution_count": 17,
   "id": "1a1cbae7",
   "metadata": {},
   "outputs": [],
   "source": [
    "nums=[3,2,6,8,4,6,2,9]"
   ]
  },
  {
   "cell_type": "code",
   "execution_count": 18,
   "id": "025e6c54",
   "metadata": {},
   "outputs": [],
   "source": [
    "evens=list(filter(lambda n : n%2==0,nums))"
   ]
  },
  {
   "cell_type": "code",
   "execution_count": 19,
   "id": "aab743c9",
   "metadata": {},
   "outputs": [],
   "source": [
    "doubles=list(map(lambda n : n*2,evens))"
   ]
  },
  {
   "cell_type": "code",
   "execution_count": 20,
   "id": "59acd775",
   "metadata": {},
   "outputs": [
    {
     "name": "stdout",
     "output_type": "stream",
     "text": [
      "[4, 12, 16, 8, 12, 4]\n"
     ]
    }
   ],
   "source": [
    "print(doubles)"
   ]
  },
  {
   "cell_type": "code",
   "execution_count": 21,
   "id": "171c6d93",
   "metadata": {},
   "outputs": [],
   "source": [
    "sum=reduce(lambda a,b : a+b,doubles)"
   ]
  },
  {
   "cell_type": "code",
   "execution_count": 22,
   "id": "ed6897e8",
   "metadata": {},
   "outputs": [
    {
     "name": "stdout",
     "output_type": "stream",
     "text": [
      "56\n"
     ]
    }
   ],
   "source": [
    "print(sum)"
   ]
  },
  {
   "cell_type": "code",
   "execution_count": 23,
   "id": "e0bc2b44",
   "metadata": {},
   "outputs": [],
   "source": [
    "l1=[\"rats\",\"mouse\",\"hare\",\"kangaroo\"]"
   ]
  },
  {
   "cell_type": "code",
   "execution_count": 29,
   "id": "2fe02773",
   "metadata": {},
   "outputs": [
    {
     "ename": "SyntaxError",
     "evalue": "unexpected EOF while parsing (<ipython-input-29-f46a71d30ae0>, line 2)",
     "output_type": "error",
     "traceback": [
      "\u001b[1;36m  File \u001b[1;32m\"<ipython-input-29-f46a71d30ae0>\"\u001b[1;36m, line \u001b[1;32m2\u001b[0m\n\u001b[1;33m    if i%2==0:\u001b[0m\n\u001b[1;37m              ^\u001b[0m\n\u001b[1;31mSyntaxError\u001b[0m\u001b[1;31m:\u001b[0m unexpected EOF while parsing\n"
     ]
    }
   ],
   "source": [
    "for index, item in enumerate(l1):\n",
    "    if index%2==0:\n",
    "        print(f\"jarvis please buy {item})"
   ]
  },
  {
   "cell_type": "code",
   "execution_count": null,
   "id": "7df95bf8",
   "metadata": {},
   "outputs": [],
   "source": []
  },
  {
   "cell_type": "code",
   "execution_count": null,
   "id": "fa15f8c6",
   "metadata": {},
   "outputs": [],
   "source": []
  }
 ],
 "metadata": {
  "kernelspec": {
   "display_name": "Python 3",
   "language": "python",
   "name": "python3"
  },
  "language_info": {
   "codemirror_mode": {
    "name": "ipython",
    "version": 3
   },
   "file_extension": ".py",
   "mimetype": "text/x-python",
   "name": "python",
   "nbconvert_exporter": "python",
   "pygments_lexer": "ipython3",
   "version": "3.8.8"
  }
 },
 "nbformat": 4,
 "nbformat_minor": 5
}
